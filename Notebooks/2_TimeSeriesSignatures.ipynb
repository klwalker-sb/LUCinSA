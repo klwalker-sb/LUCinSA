{
 "cells": [
  {
   "cell_type": "markdown",
   "id": "a9bbbf31",
   "metadata": {},
   "source": [
    "# Plotting time-series signatures from raw brdf imagery or smoothed ts outputs"
   ]
  },
  {
   "cell_type": "code",
   "execution_count": 1,
   "id": "a7945893",
   "metadata": {},
   "outputs": [],
   "source": [
    "import os\n",
    "from pathlib import Path\n",
    "import rasterio\n",
    "from rasterio import plot\n",
    "import matplotlib.pyplot as plt\n",
    "import shutil\n",
    "import tempfile\n",
    "import json\n",
    "import random\n",
    "import datetime\n",
    "import numpy as np\n",
    "import pandas as pd\n",
    "import geopandas as gpd\n",
    "from pyproj import Proj, transform\n",
    "from pyproj import CRS\n",
    "from shapely.geometry import box\n",
    "from shapely.geometry import shape\n",
    "from shapely.geometry import MultiPoint\n",
    "from shapely.geometry import Point\n",
    "from shapely.geometry import Polygon\n",
    "from rasterio.plot import show\n",
    "import xarray as xr\n",
    "\n",
    "%matplotlib inline"
   ]
  },
  {
   "cell_type": "markdown",
   "id": "6a09a454",
   "metadata": {},
   "source": [
    "***Note: running more then 1 yr or so will take a long time on login node (where notebook is housed). Better to transfer TSprofile.py and TSprofile.sh to Bash folder and run desired time series through bash script, then use `LoadTSfromFile(TSfile)` to load time series here for plotting. "
   ]
  },
  {
   "cell_type": "code",
   "execution_count": 40,
   "id": "52085365",
   "metadata": {},
   "outputs": [],
   "source": [
    "smooth_dir = Path(\"/home/downspout-cel/chile_lc/raster/grids\")\n",
    "raw_dir = Path(\"/home/sandbox-cel/chile_lc/raster/grids\")\n",
    "\n",
    "out_dir = Path(\"/home/data/tmp\")\n",
    "gridFile = Path(\"/home/sandbox-cel/chile_lc/chl_grids.gpkg\")\n",
    "gridCell = 1157\n",
    "PtFile = Path(\"/home/sandbox-cel/chile_lc/vector/sampleData/Arauco1A_Natural2014.txt\")"
   ]
  },
  {
   "cell_type": "code",
   "execution_count": 33,
   "id": "d4c8c971",
   "metadata": {},
   "outputs": [],
   "source": [
    "def GetPtsInGrid (gridFile, gridCell, ptFile):\n",
    "    '''\n",
    "    loads point file (from .csv with 'XCoord' and 'YCoord' columns) and returns points that overlap a gridcell \n",
    "    as a geopandas GeoDataFrame. Use this if trying to match/append data to existing sample points \n",
    "    rather than making a new random sample each time (e.g. if matching Planet and Sentinel points)\n",
    "    Note that crs of point file is known ahead of time and hardcoded here to match specific grid file.\n",
    "    '''\n",
    "    ptsdf = pd.read_csv(ptFile, index_col=0)\n",
    "    ### pt file is in SA Albers Equal Area Conic (ESRI:102033)\n",
    "    pts = gpd.GeoDataFrame(ptsdf,geometry=gpd.points_from_xy(ptsdf.XCoord,ptsdf.YCoord),crs='esri:102033')\n",
    "    out_path = Path(gridFile).parent\n",
    "    \n",
    "    with tempfile.TemporaryDirectory(dir=out_path) as temp_dir:\n",
    "        temp_file = Path(temp_dir) / Path(gridFile).name\n",
    "        shutil.copy(gridFile, temp_file)\n",
    "        df = gpd.read_file(temp_file)\n",
    "        crs_grid = df.crs\n",
    "    #print(crs_grid)  #ESRI:102033\n",
    "    \n",
    "    bb = df.query(f'UNQ == {gridCell}').geometry.total_bounds\n",
    "\n",
    "    gridBbox = box(bb[0],bb[1],bb[2],bb[3])\n",
    "    gridBounds = gpd.GeoDataFrame(gpd.GeoSeries(gridBbox), columns=['geometry'], crs=crs_grid)\n",
    "    print(gridBounds)\n",
    "\n",
    "    ptsInGrid = gpd.sjoin(pts, gridBounds, op='within')\n",
    "    ptsInGrid = ptsInGrid.loc[:,['geometry']]\n",
    "    \n",
    "    print(\"Of the {} ppts, {} are in gridCell {}\". format (pts.shape[0], ptsInGrid.shape[0],gridCell))\n",
    "    \n",
    "    #Write to geojson file\n",
    "    if ptsInGrid.shape[0] > 0:\n",
    "        ptClip = Path(os.path.join(out_path,'ptsGrid_'+str(gridCell)+'.json'))\n",
    "        ptsInGrid.to_file(ptClip, driver=\"GeoJSON\")\n",
    "    \n",
    "        return ptsInGrid\n",
    "        print(ptsInGrid.head(n=5))"
   ]
  },
  {
   "cell_type": "code",
   "execution_count": 34,
   "id": "3ab5f2fb",
   "metadata": {},
   "outputs": [
    {
     "name": "stdout",
     "output_type": "stream",
     "text": [
      "                                            geometry\n",
      "0  POLYGON ((-1121120.000 -620850.000, -1121120.0...\n"
     ]
    },
    {
     "name": "stderr",
     "output_type": "stream",
     "text": [
      "/home/klwalker/.nasaenv/lib64/python3.6/site-packages/ipykernel_launcher.py:26: UserWarning: CRS mismatch between the CRS of left geometries and the CRS of right geometries.\n",
      "Use `to_crs()` to reproject one of the input geometries to match the CRS of the other.\n",
      "\n",
      "Left CRS: ESRI:102033\n",
      "Right CRS: ESRI:102033\n",
      "\n"
     ]
    },
    {
     "name": "stdout",
     "output_type": "stream",
     "text": [
      "Of the 1766 ppts, 232 are in gridCell 1157\n"
     ]
    },
    {
     "data": {
      "text/html": [
       "<div>\n",
       "<style scoped>\n",
       "    .dataframe tbody tr th:only-of-type {\n",
       "        vertical-align: middle;\n",
       "    }\n",
       "\n",
       "    .dataframe tbody tr th {\n",
       "        vertical-align: top;\n",
       "    }\n",
       "\n",
       "    .dataframe thead th {\n",
       "        text-align: right;\n",
       "    }\n",
       "</style>\n",
       "<table border=\"1\" class=\"dataframe\">\n",
       "  <thead>\n",
       "    <tr style=\"text-align: right;\">\n",
       "      <th></th>\n",
       "      <th>geometry</th>\n",
       "    </tr>\n",
       "    <tr>\n",
       "      <th>FID</th>\n",
       "      <th></th>\n",
       "    </tr>\n",
       "  </thead>\n",
       "  <tbody>\n",
       "    <tr>\n",
       "      <th>39197</th>\n",
       "      <td>POINT (-1124700.000 -614943.000)</td>\n",
       "    </tr>\n",
       "    <tr>\n",
       "      <th>40062</th>\n",
       "      <td>POINT (-1127130.000 -605756.000)</td>\n",
       "    </tr>\n",
       "    <tr>\n",
       "      <th>40063</th>\n",
       "      <td>POINT (-1126922.000 -606597.000)</td>\n",
       "    </tr>\n",
       "    <tr>\n",
       "      <th>40064</th>\n",
       "      <td>POINT (-1127200.000 -606433.000)</td>\n",
       "    </tr>\n",
       "    <tr>\n",
       "      <th>40065</th>\n",
       "      <td>POINT (-1127217.000 -606189.000)</td>\n",
       "    </tr>\n",
       "  </tbody>\n",
       "</table>\n",
       "</div>"
      ],
      "text/plain": [
       "                               geometry\n",
       "FID                                    \n",
       "39197  POINT (-1124700.000 -614943.000)\n",
       "40062  POINT (-1127130.000 -605756.000)\n",
       "40063  POINT (-1126922.000 -606597.000)\n",
       "40064  POINT (-1127200.000 -606433.000)\n",
       "40065  POINT (-1127217.000 -606189.000)"
      ]
     },
     "execution_count": 34,
     "metadata": {},
     "output_type": "execute_result"
    }
   ],
   "source": [
    "NatPts = GetPtsInGrid(gridFile, gridCell, PtFile)\n",
    "NatPts.head(n=5)"
   ]
  },
  {
   "cell_type": "code",
   "execution_count": 36,
   "id": "c2d5ba2e",
   "metadata": {},
   "outputs": [],
   "source": [
    "def CalculateRawIndex(nir_val, b2_val, spec_index):\n",
    "    if spec_index == 'evi2':\n",
    "        index_val = 10000* 2.5 * ((nir_val - b2_val) / (nir_val + 1.0 + 2.4 * b2_val))\n",
    "    elif spec_index == 'ndvi':\n",
    "        index_val = 10000* (nir_val - b2_val) / ((nir_val + b2_val) + 1e-9)\n",
    "    elif spec_index == 'savi':\n",
    "        lfactor = .5 #(0-1, 0=very green, 1=very arid. .5 most common. Some use negative vals for arid env)\n",
    "        index_val = 10000* (1 + lfactor) * ((nir_val - b2_val) / (nir_val + b2_val + lfactor))\n",
    "    elif spec_index == 'msavi':\n",
    "        index_val = 10000* 1/2 * (2 * nir_val + 1) - ((2 * nir_val + 1)**2 - 8*(nir_val - b2_val))**1/2\n",
    "    elif spec_index == 'ndmi':\n",
    "        index_val = 10000* (nir_val - b2_val) / ((nir_val + b2_val) + 1e-9)\n",
    "    elif spec_index == 'ndwi':\n",
    "        index_val = 10000* (b2_val - nir_val) / ((b2_val + nir_val) + 1e-9)\n",
    "    elif spec_index == 'nir':\n",
    "        index_val = 10000* nir_val\n",
    "    elif spec_index in ['swir1','swir2','red','green']:\n",
    "        index_val = 10000* b2_val\n",
    "        \n",
    "    return index_val"
   ]
  },
  {
   "cell_type": "code",
   "execution_count": 86,
   "id": "490b9d08",
   "metadata": {},
   "outputs": [],
   "source": [
    "def GetIndexValsAtPts(TSstack, imageType, polys, spec_index, numPts, seed, loadSamp=False, ptgdb=None):\n",
    "    '''\n",
    "    Gets values for all sampled points {'numpts'} in all polygons {'polys'} for all images in {'TStack'}\n",
    "    OR gets values for points in a previously generated dataframe {ptgdb} using loadSamp=True.\n",
    "    \n",
    "    If imageType == 'TS', indices are assumed to already be calculated and \n",
    "    {'TStack'} is a list of image paths, with basenames = YYYYDDD of image acquisition (DDD is Julien day, 1-365)\n",
    "    \n",
    "    If imageType == 'L1C' images are still in raw .nc form (6 bands) and indices are calculated here\n",
    "    {'TStack'} is a list of image paths from which YYYYDDD info can be extracted\n",
    "    \n",
    "    output is a dataframe with a pt (named polygonID_pt#) \n",
    "    on each row and an image index value(named YYYYDDD) in each column\n",
    "    \n",
    "    '''\n",
    "    if loadSamp == False:\n",
    "        if polys:\n",
    "            ptsgdb = getRanPtsInPolys (polys, numPts, seed)\n",
    "        else:\n",
    "            print('There are no polygons or points to process in this cell')\n",
    "            return None\n",
    "    elif loadSamp == True:\n",
    "        ptsgdb = ptgdb\n",
    "        \n",
    "    xy = [ptsgdb['geometry'].x, ptsgdb['geometry'].y]\n",
    "    coords = list(map(list, zip(*xy)))\n",
    "                          \n",
    "    if imageType == 'TS':\n",
    "        for img in TSstack:\n",
    "            img_name = os.path.basename(img)[:7]\n",
    "            with rasterio.open(img, 'r') as src:\n",
    "                ptsgdb[img_name] = [sample[0] for sample in src.sample(coords)]\n",
    "\n",
    "    elif imageType == 'Sentinel' or imageType == 'Landsat' or imageType == 'All' :\n",
    "        for img in TSstack:\n",
    "            if os.path.basename(img).startswith('L1C'):\n",
    "                YYYY = int(os.path.basename(img)[19:23])\n",
    "                MM = int(os.path.basename(img)[23:25])\n",
    "                DD = int(os.path.basename(img)[25:27])\n",
    "            elif os.path.basename(img).startswith('LC') or img.startswith('LT') or img.startswith('LE'):\n",
    "                YYYY = int(os.path.basename(img)[17:21])\n",
    "                MM = int(os.path.basename(img)[21:23])\n",
    "                DD = int(os.path.basename(img)[23:25])\n",
    "            ymd = datetime.datetime(YYYY, MM, DD)\n",
    "            doy = ymd.strftime('%j')\n",
    "            img_name = str(YYYY)+doy\n",
    "            xrimg = xr.open_dataset(img)\n",
    "            xr_nir = xrimg['nir'].where(xrimg['nir'] < 10000)\n",
    "            \n",
    "            if spec_index in ['evi2','msavi','ndvi','savi','red']:\n",
    "                xr_red = xrimg['red'].where(xrimg['red'] < 10000)\n",
    "            elif spec_index in ['ndmi','swir1']:\n",
    "                xr_swir1 = xrimg['swir1'].where(xrimg['swir1']< 10000)\n",
    "            elif spec_index in ['ndwi','green']:\n",
    "                xr_green = xrimg['green'].where(xrimg['green']< 10000)\n",
    "            elif spec_index in ['swir2']:\n",
    "                xr_swir2 = xrimg['swir2'].where(xrimg['swir2']< 10000)\n",
    "            elif spec_index in ['nir']:\n",
    "                pass\n",
    "            else: print('{} is not specified or does not have current method'.format(spec_index))\n",
    "                \n",
    "            ptVals = []\n",
    "            for index, row in ptsgdb.iterrows():\n",
    "                thispt_nir = xr_nir.sel(x=ptsgdb['geometry'].x[index],y=ptsgdb['geometry'].y[index], \n",
    "                                        method='nearest', tolerance=30)\n",
    "                nir_val = thispt_nir.values\n",
    "                \n",
    "                if spec_index in ['evi2','msavi','ndvi','savi','red']:\n",
    "                    thispt_b2 = xr_red.sel(x=ptsgdb['geometry'].x[index],y=ptsgdb['geometry'].y[index],\n",
    "                                method='nearest', tolerance=30)\n",
    "                    b2_val = thispt_b2.values\n",
    "                elif spec_index in ['ndmi','swir1']:\n",
    "                    thispt_b2 = xr_swir1.sel(x=ptsgdb['geometry'].x[index],y=ptsgdb['geometry'].y[index],\n",
    "                                method='nearest', tolerance=30)\n",
    "                    b2_val = thispt_b2.values\n",
    "                elif spec_index in ['ndwi','green']:\n",
    "                    thispt_b2 = xr_green.sel(x=ptsgdb['geometry'].x[index],y=ptsgdb['geometry'].y[index],\n",
    "                                method='nearest', tolerance=30)\n",
    "                    b2_val = thispt_b2.values\n",
    "                elif spec_index in ['swir2']:\n",
    "                    thispt_b2 = xr_swir2.sel(x=ptsgdb['geometry'].x[index],y=ptsgdb['geometry'].y[index],\n",
    "                                method='nearest', tolerance=30)\n",
    "                    b2_val = thispt_b2.values\n",
    "                elif spec_index in ['nir']:\n",
    "                    b2_val = nir_val\n",
    "                \n",
    "                indexVal = CalculateRawIndex(nir_val, b2_val, spec_index)\n",
    "                ptVals.append(indexVal)\n",
    "                \n",
    "            ptsgdb[img_name] = ptVals\n",
    "                \n",
    "    return ptsgdb"
   ]
  },
  {
   "cell_type": "code",
   "execution_count": 87,
   "id": "a5d6ce49",
   "metadata": {},
   "outputs": [],
   "source": [
    "def GetTimeSeriesForPts_MultiCell(out_dir, spec_index, StartYr, EndYr, img_dir, imageType, gridFile, cellList, \n",
    "                            groundPolys, oldest=2018, newest=2018, npts=2, seed=88, loadSamp=False, ptFile=None):\n",
    "    '''\n",
    "    Returns datetime dataframe of values for sampled pts (n={'npts}) for each polygon in {'polys'}\n",
    "    OR for previously generated points with {loadSamp}=True and {ptFile}=path to .csv file \n",
    "     (.csv file needs 'XCoord' and 'YCoord' fields (in this case, groundpolys, oldest, newest, npts and seed are not used))\n",
    "    for all images of {imageType} acquired between {'StartYr'} and {'EndYr'} in {'TS_Directory'} \n",
    "    imageType can be 'Sentinel', 'Landsat', or 'All'\n",
    "    Output format is a datetime object with date (YYYY-MM-DD) on each row and sample name (polygonID_pt#) in columns\n",
    "    '''\n",
    "    \n",
    "    Allpts = pd.DataFrame()\n",
    "    \n",
    "    for cell in cellList:\n",
    "        TStack = []\n",
    "        print ('working on cell {}'.format(cell))\n",
    "        if loadSamp == True:\n",
    "            points = GetPtsInGrid (gridFile, cell, ptFile)\n",
    "            polys = None\n",
    "        else:\n",
    "            polys = GetPolygonsInGrid (gridFile, cell, groundPolys, oldest, newest)\n",
    "            points = None\n",
    "        if isinstance(points, gpd.GeoDataFrame) or polys is not None:\n",
    "            if imageType == 'TS':\n",
    "                cellDir = os.path.join(img_dir,'{:06d}'.format(cell),'brdf_ts','ms',spec_index)\n",
    "                for img in os.listdir(cellDir):\n",
    "                    imgYr = int(img[:4])\n",
    "                    if imgYr >= StartYr and imgYr <= EndYr:\n",
    "                        TStack.append(os.path.join(img_dir,cellDir,img))\n",
    "\n",
    "            else: \n",
    "                cellDir = os.path.join(img_dir,'{:06d}'.format(cell),'brdf')\n",
    "                \n",
    "                if imageType == 'Sentinel':\n",
    "                    for img in os.listdir(cellDir):\n",
    "                        if img.startswith('L1C') and 'angles' not in img:\n",
    "                            imgYr = int(img[19:23])\n",
    "                            if imgYr >= StartYr and imgYr <= EndYr:\n",
    "                                TStack.append(os.path.join(img_dir,cellDir,img))\n",
    "                if imageType == 'Landsat':\n",
    "                    for img in os.listdir(cellDir):\n",
    "                        if img.startswith('LC') or img.startswith('LT') or img.startswith('LE'):\n",
    "                            if 'angles' not in img:\n",
    "                                imgYr = int(img[17:21])\n",
    "                                if imgYr >= StartYr and imgYr <= EndYr:\n",
    "                                    TStack.append(os.path.join(img_dir,cellDir,img))\n",
    "                if imageType == 'All':\n",
    "                    for img in os.listdir(cellDir):\n",
    "                        if img.startswith('L1C') and 'angles' not in img:\n",
    "                            imgYr = int(img[19:23])\n",
    "                            if imgYr >= StartYr and imgYr <= EndYr:\n",
    "                                    TStack.append(os.path.join(img_dir,cellDir,img))\n",
    "                        elif img.startswith('LC') or img.startswith('LT') or img.startswith('LE'):\n",
    "                            if 'angles' not in img:\n",
    "                                imgYr = int(img[17:21])\n",
    "                                if imgYr >= StartYr and imgYr <= EndYr:\n",
    "                                    TStack.append(os.path.join(img_dir,cellDir,img))\n",
    "\n",
    "            TStack.sort()\n",
    "            if loadSamp == True:\n",
    "                polys=None\n",
    "                pts = GetIndexValsAtPts(TStack, imageType, polys, spec_index, 2, seed=88, loadSamp=True, ptgdb=points)\n",
    "            else:\n",
    "                pts = GetIndexValsAtPts(TStack, imageType, polys, spec_index, 2, seed=88, loadSamp=False, ptgdb=None)\n",
    "            \n",
    "            pts.drop(columns=['geometry'], inplace=True)\n",
    "            Allpts = pd.concat([Allpts, pts])\n",
    "    \n",
    "        else:\n",
    "            print('skipping this cell')\n",
    "            pass\n",
    "    \n",
    "    TS = Allpts.transpose()\n",
    "    TS['date'] = [pd.to_datetime(e[:4]) + pd.to_timedelta(int(e[4:]) - 1, unit='D') for e in TS.index]\n",
    "    TS.set_index('date', drop=True, inplace=True)\n",
    "    TS.index = pd.to_datetime(TS.index)\n",
    "\n",
    "    TS['ALL'] = TS.mean(axis=1)\n",
    "    TS['stdv'] = TS.std(axis=1)\n",
    "    \n",
    "    #pd.DataFrame(TS).to_csv(os.path.join(out_dir,'TS_{}_{}-{}.csv'.format(spec_index, StartYr, EndYr)), sep=',', na_rep='NaN', index=True)\n",
    "    \n",
    "    return TS\n",
    "    \n",
    "    \n",
    "def LoadTSfromFile(TSfile):\n",
    "    TS = pd.read_csv(TSfile)\n",
    "    TS.set_index('date', drop=True, inplace=True)\n",
    "    TS.index = pd.to_datetime(TS.index)\n",
    "    \n",
    "    return TS"
   ]
  },
  {
   "cell_type": "code",
   "execution_count": 88,
   "id": "94e246b5",
   "metadata": {},
   "outputs": [],
   "source": [
    "def Convert_FullTimeSeries_toDOY(TSdf, Yr, StartDay=0, EndDay=365):\n",
    "    newDF = TSdf[TSdf.index.year == Yr]\n",
    "    #change index to just month-day:\n",
    "    newDF.index = newDF.index.dayofyear\n",
    "    newDF = newDF[newDF.index >= StartDay]\n",
    "    newDF = newDF[newDF.index <= EndDay]\n",
    "    \n",
    "    return newDF"
   ]
  },
  {
   "cell_type": "code",
   "execution_count": 97,
   "id": "7b612622",
   "metadata": {},
   "outputs": [
    {
     "name": "stdout",
     "output_type": "stream",
     "text": [
      "working on cell 1157\n",
      "                                            geometry\n",
      "0  POLYGON ((-1121120.000 -620850.000, -1121120.0...\n"
     ]
    },
    {
     "name": "stderr",
     "output_type": "stream",
     "text": [
      "/home/klwalker/.nasaenv/lib64/python3.6/site-packages/ipykernel_launcher.py:26: UserWarning: CRS mismatch between the CRS of left geometries and the CRS of right geometries.\n",
      "Use `to_crs()` to reproject one of the input geometries to match the CRS of the other.\n",
      "\n",
      "Left CRS: ESRI:102033\n",
      "Right CRS: ESRI:102033\n",
      "\n"
     ]
    },
    {
     "name": "stdout",
     "output_type": "stream",
     "text": [
      "Of the 1766 ppts, 232 are in gridCell 1157\n"
     ]
    }
   ],
   "source": [
    "raw = GetTimeSeriesForPts_MultiCell(out_dir, 'evi2', 2014, 2018, raw_dir, 'All', gridFile, [1157], \n",
    "                            groundPolys=None, oldest=2018, newest=2018, npts=2, seed=88, loadSamp=True, ptFile=PtFile)"
   ]
  },
  {
   "cell_type": "code",
   "execution_count": 98,
   "id": "4eb2391b",
   "metadata": {},
   "outputs": [
    {
     "name": "stdout",
     "output_type": "stream",
     "text": [
      "working on cell 1157\n",
      "                                            geometry\n",
      "0  POLYGON ((-1121120.000 -620850.000, -1121120.0...\n"
     ]
    },
    {
     "name": "stderr",
     "output_type": "stream",
     "text": [
      "/home/klwalker/.nasaenv/lib64/python3.6/site-packages/ipykernel_launcher.py:26: UserWarning: CRS mismatch between the CRS of left geometries and the CRS of right geometries.\n",
      "Use `to_crs()` to reproject one of the input geometries to match the CRS of the other.\n",
      "\n",
      "Left CRS: ESRI:102033\n",
      "Right CRS: ESRI:102033\n",
      "\n"
     ]
    },
    {
     "name": "stdout",
     "output_type": "stream",
     "text": [
      "Of the 1766 ppts, 232 are in gridCell 1157\n"
     ]
    }
   ],
   "source": [
    "smooth = GetTimeSeriesForPts_MultiCell(out_dir, 'evi2', 2014, 2018, smooth_dir,'TS', gridFile, [1157], \n",
    "                            groundPolys=None, oldest=2018, newest=2018, npts=2, seed=88, loadSamp=True, ptFile=PtFile)"
   ]
  },
  {
   "cell_type": "code",
   "execution_count": 99,
   "id": "d0bbda7c",
   "metadata": {},
   "outputs": [],
   "source": [
    "raw = raw[raw['ALL'] != 0]\n",
    "smooth = smooth[smooth['ALL'] != 0]"
   ]
  },
  {
   "cell_type": "code",
   "execution_count": 102,
   "id": "26d7668f",
   "metadata": {},
   "outputs": [
    {
     "data": {
      "image/png": "[encoded data removed]",
      "text/plain": [
       "<Figure size 720x360 with 1 Axes>"
      ]
     },
     "metadata": {
      "needs_background": "light"
     },
     "output_type": "display_data"
    }
   ],
   "source": [
    "fig = plt.figure(figsize=(10, 5))\n",
    "plt.errorbar(smooth.index, smooth['ALL'], yerr=smooth['stdv'], fmt='o', color='k')\n",
    "#plt.errorbar(raw.index, raw['ALL'], yerr=raw['stdv'], fmt='o', color='g')\n",
    "plt.title('Smoothed EVI2 for natural forest points 2014-2018')\n",
    "plt.show()"
   ]
  },
  {
   "cell_type": "code",
   "execution_count": 103,
   "id": "d72767fc",
   "metadata": {},
   "outputs": [
    {
     "data": {
      "image/png": "[encoded data removed]",
      "text/plain": [
       "<Figure size 720x360 with 1 Axes>"
      ]
     },
     "metadata": {
      "needs_background": "light"
     },
     "output_type": "display_data"
    }
   ],
   "source": [
    "fig = plt.figure(figsize=(10, 5))\n",
    "#plt.errorbar(smooth.index, smooth['ALL'], yerr=smooth['stdv'], fmt='o', color='k')\n",
    "plt.errorbar(raw.index, raw['ALL'], yerr=raw['stdv'], fmt='o', color='g')\n",
    "plt.title('Raw EVI2 for natural forest points 2014-2018')\n",
    "plt.show()"
   ]
  },
  {
   "cell_type": "code",
   "execution_count": null,
   "id": "531c59b8",
   "metadata": {},
   "outputs": [],
   "source": []
  }
 ],
 "metadata": {
  "kernelspec": {
   "display_name": "Python 3",
   "language": "python",
   "name": "python3"
  },
  "language_info": {
   "codemirror_mode": {
    "name": "ipython",
    "version": 3
   },
   "file_extension": ".py",
   "mimetype": "text/x-python",
   "name": "python",
   "nbconvert_exporter": "python",
   "pygments_lexer": "ipython3",
   "version": "3.6.8"
  }
 },
 "nbformat": 4,
 "nbformat_minor": 5
}
