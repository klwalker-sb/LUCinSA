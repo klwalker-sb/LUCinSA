{
 "cells": [
  {
   "cell_type": "markdown",
   "id": "02d941c9",
   "metadata": {},
   "source": [
    "# Quick way to explore imagery in a directory"
   ]
  },
  {
   "cell_type": "code",
   "execution_count": 7,
   "id": "18a56fba",
   "metadata": {},
   "outputs": [],
   "source": [
    "import os\n",
    "from pathlib import Path\n",
    "import pandas as pd\n",
    "import numpy as np\n",
    "import matplotlib.pyplot as plt\n",
    "\n",
    "%matplotlib inline"
   ]
  },
  {
   "cell_type": "code",
   "execution_count": 2,
   "id": "87db9803",
   "metadata": {},
   "outputs": [],
   "source": [
    "def PrintFilesInDirectory(in_dir,endstring,brdfDir=True,printList=False,out_dir=None):\n",
    "    fileList = []\n",
    "    for f in os.listdir(in_dir):\n",
    "        if f.endswith(endstring) and 'angles' not in f:\n",
    "            fileList.append(f)\n",
    "    filedf = pd.DataFrame(fileList, columns = ['file'])\n",
    "    \n",
    "    if brdfDir==True:\n",
    "        filedf['sensor'] = filedf['file'].str[:4]\n",
    "        filedf['date'] = np.where((filedf['sensor']=='L1C_'),filedf['file'].str[19:27],filedf['file'].str[17:25])\n",
    "        filedf['yr'] = filedf['date'].str[:4]\n",
    "        filedf['yrmo'] = filedf['date'].str[:6]\n",
    "        sorted_files = filedf.sort_values(by='date')\n",
    "    \n",
    "    if printList == True:\n",
    "        pd.DataFrame.to_csv(filedf, os.path.join(out_dir,'FileList.txt'), sep=',', na_rep='.', index=False)   \n",
    "        \n",
    "    return filedf"
   ]
  },
  {
   "cell_type": "markdown",
   "id": "8d2aa3cb",
   "metadata": {},
   "source": [
    "Can generate a dataframe with a list of all files in folder for quick exploration. Option to print to file for deeper look.\n",
    "If the directory of interest is a brdf directory, can extract dates and sensor types from file names\n",
    "useing '.nc' as {endstring} and brdfDir=True. \n",
    "Can also generate quick graphs of images by year and month below."
   ]
  },
  {
   "cell_type": "code",
   "execution_count": 3,
   "id": "b0b59840",
   "metadata": {},
   "outputs": [],
   "source": [
    "in_dir = \"/home/sandbox-cel/paraguay_lc/raster/grids/001010/brdf\"\n",
    "Allimages = PrintFilesInDirectory (in_dir,'.nc',brdfDir=True,printList=False,out_dir=None)"
   ]
  },
  {
   "cell_type": "code",
   "execution_count": 4,
   "id": "a9e97a29",
   "metadata": {},
   "outputs": [
    {
     "data": {
      "text/html": [
       "<div>\n",
       "<style scoped>\n",
       "    .dataframe tbody tr th:only-of-type {\n",
       "        vertical-align: middle;\n",
       "    }\n",
       "\n",
       "    .dataframe tbody tr th {\n",
       "        vertical-align: top;\n",
       "    }\n",
       "\n",
       "    .dataframe thead th {\n",
       "        text-align: right;\n",
       "    }\n",
       "</style>\n",
       "<table border=\"1\" class=\"dataframe\">\n",
       "  <thead>\n",
       "    <tr style=\"text-align: right;\">\n",
       "      <th></th>\n",
       "      <th>file</th>\n",
       "      <th>sensor</th>\n",
       "      <th>date</th>\n",
       "      <th>yr</th>\n",
       "      <th>yrmo</th>\n",
       "    </tr>\n",
       "  </thead>\n",
       "  <tbody>\n",
       "    <tr>\n",
       "      <th>0</th>\n",
       "      <td>LC08_L1TP_225079_20210410_20210416_01_T1.nc</td>\n",
       "      <td>LC08</td>\n",
       "      <td>20210410</td>\n",
       "      <td>2021</td>\n",
       "      <td>202104</td>\n",
       "    </tr>\n",
       "    <tr>\n",
       "      <th>1</th>\n",
       "      <td>L1C_T21JWL_A013778_20191026T135113_MTD.nc</td>\n",
       "      <td>L1C_</td>\n",
       "      <td>20191026</td>\n",
       "      <td>2019</td>\n",
       "      <td>201910</td>\n",
       "    </tr>\n",
       "    <tr>\n",
       "      <th>2</th>\n",
       "      <td>LC08_L1TP_225079_20210731_20210810_01_T1.nc</td>\n",
       "      <td>LC08</td>\n",
       "      <td>20210731</td>\n",
       "      <td>2021</td>\n",
       "      <td>202107</td>\n",
       "    </tr>\n",
       "    <tr>\n",
       "      <th>3</th>\n",
       "      <td>LC08_L1TP_225079_20160327_20170327_01_T1.nc</td>\n",
       "      <td>LC08</td>\n",
       "      <td>20160327</td>\n",
       "      <td>2016</td>\n",
       "      <td>201603</td>\n",
       "    </tr>\n",
       "    <tr>\n",
       "      <th>4</th>\n",
       "      <td>LC08_L1TP_225079_20170330_20170414_01_T1.nc</td>\n",
       "      <td>LC08</td>\n",
       "      <td>20170330</td>\n",
       "      <td>2017</td>\n",
       "      <td>201703</td>\n",
       "    </tr>\n",
       "  </tbody>\n",
       "</table>\n",
       "</div>"
      ],
      "text/plain": [
       "                                          file sensor      date    yr    yrmo\n",
       "0  LC08_L1TP_225079_20210410_20210416_01_T1.nc   LC08  20210410  2021  202104\n",
       "1    L1C_T21JWL_A013778_20191026T135113_MTD.nc   L1C_  20191026  2019  201910\n",
       "2  LC08_L1TP_225079_20210731_20210810_01_T1.nc   LC08  20210731  2021  202107\n",
       "3  LC08_L1TP_225079_20160327_20170327_01_T1.nc   LC08  20160327  2016  201603\n",
       "4  LC08_L1TP_225079_20170330_20170414_01_T1.nc   LC08  20170330  2017  201703"
      ]
     },
     "execution_count": 4,
     "metadata": {},
     "output_type": "execute_result"
    }
   ],
   "source": [
    "Allimages.head(n=5)"
   ]
  },
  {
   "cell_type": "code",
   "execution_count": 39,
   "id": "57119161",
   "metadata": {},
   "outputs": [
    {
     "data": {
      "text/plain": [
       "<AxesSubplot:title={'center':'Images per year'}, xlabel='yr'>"
      ]
     },
     "execution_count": 39,
     "metadata": {},
     "output_type": "execute_result"
    },
    {
     "data": {
      "image/png": "[encoded data removed]",
      "text/plain": [
       "<Figure size 1440x360 with 1 Axes>"
      ]
     },
     "metadata": {
      "needs_background": "light"
     },
     "output_type": "display_data"
    }
   ],
   "source": [
    "Allimages.groupby(['yr','sensor']).size().unstack().plot(kind='bar', stacked=True, figsize=(20, 5), title=('Images per year'))"
   ]
  },
  {
   "cell_type": "code",
   "execution_count": 41,
   "id": "c95283a5",
   "metadata": {},
   "outputs": [
    {
     "data": {
      "text/plain": [
       "<AxesSubplot:title={'center':'Images per month'}, xlabel='yrmo'>"
      ]
     },
     "execution_count": 41,
     "metadata": {},
     "output_type": "execute_result"
    },
    {
     "data": {
      "image/png": "[encoded data removed]",
      "text/plain": [
       "<Figure size 1440x360 with 1 Axes>"
      ]
     },
     "metadata": {
      "needs_background": "light"
     },
     "output_type": "display_data"
    }
   ],
   "source": [
    "Allimages.groupby(['yrmo','sensor']).size().unstack().plot(kind='bar', stacked=True, figsize=(20, 5), title=('Images per month'))"
   ]
  },
  {
   "cell_type": "markdown",
   "id": "6413eed5",
   "metadata": {},
   "source": [
    "## Focus on smaller range of years to see month on axis:"
   ]
  },
  {
   "cell_type": "code",
   "execution_count": 44,
   "id": "60db71fd",
   "metadata": {},
   "outputs": [
    {
     "data": {
      "text/plain": [
       "<AxesSubplot:title={'center':'Images per month'}, xlabel='yrmo'>"
      ]
     },
     "execution_count": 44,
     "metadata": {},
     "output_type": "execute_result"
    },
    {
     "data": {
      "image/png": "[encoded data removed]",
      "text/plain": [
       "<Figure size 1440x360 with 1 Axes>"
      ]
     },
     "metadata": {
      "needs_background": "light"
     },
     "output_type": "display_data"
    }
   ],
   "source": [
    "ImgSubset = Allimages[Allimages[\"yr\"].astype(int) > 2019]\n",
    "ImgSubset.groupby(['yrmo','sensor']).size().unstack().plot(kind='bar', stacked=True, figsize=(20, 5), title=('Images per month'))"
   ]
  },
  {
   "cell_type": "code",
   "execution_count": null,
   "id": "25b26464",
   "metadata": {},
   "outputs": [],
   "source": []
  }
 ],
 "metadata": {
  "kernelspec": {
   "display_name": "Python 3",
   "language": "python",
   "name": "python3"
  },
  "language_info": {
   "codemirror_mode": {
    "name": "ipython",
    "version": 3
   },
   "file_extension": ".py",
   "mimetype": "text/x-python",
   "name": "python",
   "nbconvert_exporter": "python",
   "pygments_lexer": "ipython3",
   "version": "3.6.8"
  }
 },
 "nbformat": 4,
 "nbformat_minor": 5
}
